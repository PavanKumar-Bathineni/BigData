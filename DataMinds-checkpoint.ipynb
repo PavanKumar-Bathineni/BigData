{
 "cells": [
  {
   "cell_type": "code",
   "execution_count": 37,
   "id": "88a7c528-6390-4864-93a7-a47e636de20f",
   "metadata": {},
   "outputs": [],
   "source": [
    "from pyspark.sql import SparkSession\n",
    "from pyspark.sql.functions import col, count, sum, min, max, avg, mean, stddev, expr,when\n"
   ]
  },
  {
   "cell_type": "code",
   "execution_count": 2,
   "id": "2f2ba500-98c3-4489-8ba2-d4930b871ecc",
   "metadata": {},
   "outputs": [],
   "source": [
    "spark = SparkSession.builder.appName(\"DataMindsApp\").getOrCreate()\n"
   ]
  },
  {
   "cell_type": "code",
   "execution_count": 17,
   "id": "524753be-d0a0-4b87-88ee-b651c0f4084a",
   "metadata": {},
   "outputs": [],
   "source": [
    "data = spark.read.csv(r\"C:\\Users\\S566651\\Desktop\\BigData\\Police Data.csv\", header=True, inferSchema=True)"
   ]
  },
  {
   "cell_type": "code",
   "execution_count": 18,
   "id": "17617a5a-fa6e-4377-808a-0dc70c50abd1",
   "metadata": {},
   "outputs": [
    {
     "name": "stdout",
     "output_type": "stream",
     "text": [
      "+---------+-------------------+------------+-------------+--------------+----------+-----------+----------------+---------+----------------+-----------+-------------+-----------+-------------+------------------+---------+\n",
      "|stop_date|          stop_time|country_name|driver_gender|driver_age_raw|driver_age|driver_race|   violation_raw|violation|search_conducted|search_type| stop_outcome|is_arrested|stop_duration|drugs_related_stop|Driver ID|\n",
      "+---------+-------------------+------------+-------------+--------------+----------+-----------+----------------+---------+----------------+-----------+-------------+-----------+-------------+------------------+---------+\n",
      "| 1/2/2005|2024-12-06 01:55:00|        NULL|            M|          1985|        20|      White|        Speeding| Speeding|           false|       NULL|     Citation|      false|     0-15 Min|             false|DL-177987|\n",
      "|1/18/2005|2024-12-06 08:15:00|        NULL|            M|          1965|        40|      White|        Speeding| Speeding|           false|       NULL|     Citation|      false|     0-15 Min|             false|DL-448468|\n",
      "|1/23/2005|2024-12-06 23:15:00|        NULL|            M|          1972|        33|      White|        Speeding| Speeding|           false|       NULL|     Citation|      false|     0-15 Min|             false|DL-160532|\n",
      "|2/20/2005|2024-12-06 17:15:00|        NULL|            M|          1986|        19|      White|Call for Service|    Other|           false|       NULL|Arrest Driver|       true|    16-30 Min|             false|DL-388269|\n",
      "|3/14/2005|2024-12-06 10:00:00|        NULL|            F|          1984|        21|      White|        Speeding| Speeding|           false|       NULL|     Citation|      false|     0-15 Min|             false|DL-849741|\n",
      "+---------+-------------------+------------+-------------+--------------+----------+-----------+----------------+---------+----------------+-----------+-------------+-----------+-------------+------------------+---------+\n",
      "only showing top 5 rows\n",
      "\n"
     ]
    }
   ],
   "source": [
    "data.show(5)"
   ]
  },
  {
   "cell_type": "code",
   "execution_count": 19,
   "id": "fab69f60-d11f-4a72-9f28-78a8e53b6193",
   "metadata": {},
   "outputs": [
    {
     "name": "stdout",
     "output_type": "stream",
     "text": [
      "Number of records in Data:  10227\n"
     ]
    }
   ],
   "source": [
    "number_of_rows = data.count()\n",
    "print(\"Number of records in Data: \", number_of_rows)"
   ]
  },
  {
   "cell_type": "code",
   "execution_count": 20,
   "id": "a145fcf0-1c73-478b-9099-1736aec6153d",
   "metadata": {},
   "outputs": [
    {
     "name": "stdout",
     "output_type": "stream",
     "text": [
      "+---------+-------------------+-------------+--------------+----------+-----------+--------------------+---------+----------------+-----------+-------------+-----------+-------------+------------------+---------+\n",
      "|stop_date|          stop_time|driver_gender|driver_age_raw|driver_age|driver_race|       violation_raw|violation|search_conducted|search_type| stop_outcome|is_arrested|stop_duration|drugs_related_stop|Driver ID|\n",
      "+---------+-------------------+-------------+--------------+----------+-----------+--------------------+---------+----------------+-----------+-------------+-----------+-------------+------------------+---------+\n",
      "| 1/2/2005|2024-12-06 01:55:00|            M|          1985|        20|      White|            Speeding| Speeding|           false|       NULL|     Citation|      false|     0-15 Min|             false|DL-177987|\n",
      "|1/18/2005|2024-12-06 08:15:00|            M|          1965|        40|      White|            Speeding| Speeding|           false|       NULL|     Citation|      false|     0-15 Min|             false|DL-448468|\n",
      "|1/23/2005|2024-12-06 23:15:00|            M|          1972|        33|      White|            Speeding| Speeding|           false|       NULL|     Citation|      false|     0-15 Min|             false|DL-160532|\n",
      "|2/20/2005|2024-12-06 17:15:00|            M|          1986|        19|      White|    Call for Service|    Other|           false|       NULL|Arrest Driver|       true|    16-30 Min|             false|DL-388269|\n",
      "|3/14/2005|2024-12-06 10:00:00|            F|          1984|        21|      White|            Speeding| Speeding|           false|       NULL|     Citation|      false|     0-15 Min|             false|DL-849741|\n",
      "|3/23/2005|2024-12-06 09:45:00|            M|          1982|        23|      Black|Equipment/Inspect...|Equipment|           false|       NULL|     Citation|      false|     0-15 Min|             false|DL-960178|\n",
      "| 4/1/2005|2024-12-06 17:30:00|            M|          1969|        36|      White|            Speeding| Speeding|           false|       NULL|     Citation|      false|     0-15 Min|             false|DL-616367|\n",
      "| 6/6/2005|2024-12-06 13:20:00|            F|          1986|        19|      White|            Speeding| Speeding|           false|       NULL|     Citation|      false|     0-15 Min|             false|DL-208428|\n",
      "|7/13/2005|2024-12-06 10:15:00|            M|          1970|        35|      Black|            Speeding| Speeding|           false|       NULL|     Citation|      false|     0-15 Min|             false|DL-624875|\n",
      "|7/13/2005|2024-12-06 15:45:00|            M|          1970|        35|      White|            Speeding| Speeding|           false|       NULL|     Citation|      false|     0-15 Min|             false|DL-676605|\n",
      "|7/13/2005|2024-12-06 16:20:00|            M|          1979|        26|      Asian|            Speeding| Speeding|           false|       NULL|     Citation|      false|     0-15 Min|             false|DL-129273|\n",
      "|7/13/2005|2024-12-06 19:00:00|            F|          1966|        39|      White|            Speeding| Speeding|           false|       NULL|     Citation|      false|     0-15 Min|             false|DL-853123|\n",
      "|7/14/2005|2024-12-06 19:55:00|            M|          1979|        26|      White|            Speeding| Speeding|           false|       NULL|     Citation|      false|     0-15 Min|             false|DL-225461|\n",
      "|7/18/2005|2024-12-06 19:30:00|            F|          1984|        21|      White|            Speeding| Speeding|           false|       NULL|     Citation|      false|     0-15 Min|             false|DL-717204|\n",
      "|7/18/2005|2024-12-06 19:45:00|            M|          1969|        36|      White|            Speeding| Speeding|           false|       NULL|     Citation|      false|     0-15 Min|             false|DL-503909|\n",
      "|7/19/2005|2024-12-06 00:30:00|            M|          1982|        23|      White|            Speeding| Speeding|           false|       NULL|     Citation|      false|     0-15 Min|             false|DL-769095|\n",
      "|7/19/2005|2024-12-06 00:30:00|            M|          1982|        23|      White|            Speeding| Speeding|           false|       NULL|     Citation|      false|     0-15 Min|             false|DL-632167|\n",
      "|7/19/2005|2024-12-06 23:30:00|            M|          1979|        26|      White|Equipment/Inspect...|Equipment|           false|       NULL|     Citation|      false|     0-15 Min|             false|DL-127349|\n",
      "|7/20/2005|2024-12-06 00:05:00|            M|          1955|        50|      White|            Speeding| Speeding|           false|       NULL|     Citation|      false|     0-15 Min|             false|DL-503996|\n",
      "|7/24/2005|2024-12-06 20:10:00|            F|          1958|        47|      White|            Speeding| Speeding|           false|       NULL|     Citation|      false|     0-15 Min|             false|DL-111516|\n",
      "+---------+-------------------+-------------+--------------+----------+-----------+--------------------+---------+----------------+-----------+-------------+-----------+-------------+------------------+---------+\n",
      "only showing top 20 rows\n",
      "\n"
     ]
    }
   ],
   "source": [
    "data = data.drop('country_name')\n",
    "data.show()"
   ]
  },
  {
   "cell_type": "code",
   "execution_count": 13,
   "id": "afb60a32-fd28-4d45-9a60-97aacedb442b",
   "metadata": {},
   "outputs": [
    {
     "name": "stdout",
     "output_type": "stream",
     "text": [
      "Column Names:  ['stop_date', 'stop_time', 'driver_gender', 'driver_age_raw', 'driver_age', 'driver_race', 'violation_raw', 'violation', 'search_conducted', 'search_type', 'stop_outcome', 'is_arrested', 'stop_duration', 'drugs_related_stop', 'Driver ID']\n"
     ]
    }
   ],
   "source": [
    "column_names = data.columns\n",
    "print(\"Column Names: \", column_names)"
   ]
  },
  {
   "cell_type": "code",
   "execution_count": 27,
   "id": "72e110d8-2f27-4910-bf28-9f26a1261dd8",
   "metadata": {},
   "outputs": [],
   "source": [
    "# Goal 1:Analyze Arrest Patterns by Driver Race"
   ]
  },
  {
   "cell_type": "code",
   "execution_count": 28,
   "id": "fd07d27f-0026-4d68-87d5-482453a7cec0",
   "metadata": {},
   "outputs": [
    {
     "name": "stdout",
     "output_type": "stream",
     "text": [
      "+-----------+-----------+-----+\n",
      "|driver_race|is_arrested|count|\n",
      "+-----------+-----------+-----+\n",
      "|      Other|      false|   28|\n",
      "|      Asian|      false|  271|\n",
      "|   Hispanic|       true|   27|\n",
      "|      Black|      false| 1016|\n",
      "|      Asian|       true|   10|\n",
      "|      White|      false| 7798|\n",
      "|      Black|       true|  157|\n",
      "|   Hispanic|      false|  172|\n",
      "|      White|       true|  332|\n",
      "+-----------+-----------+-----+\n",
      "\n"
     ]
    }
   ],
   "source": [
    "filtered_data = data.filter((data.driver_race.isNotNull()) & (data.is_arrested.isNotNull()))\n",
    "grouped_data = filtered_data.groupBy(\"driver_race\", \"is_arrested\").agg(count(\"*\").alias(\"count\"))\n",
    "grouped_data.show()"
   ]
  },
  {
   "cell_type": "code",
   "execution_count": null,
   "id": "c7318436-f7a7-4fdc-bf67-766732cdc229",
   "metadata": {},
   "outputs": [],
   "source": [
    "# Goal 2:Analyze gender disparities in traffic Violations "
   ]
  },
  {
   "cell_type": "code",
   "execution_count": 31,
   "id": "d6cf3d47-8c88-4f94-93ef-51a0c37e87fa",
   "metadata": {},
   "outputs": [
    {
     "name": "stdout",
     "output_type": "stream",
     "text": [
      "+-------------------+-------------+-----+\n",
      "|          violation|driver_gender|count|\n",
      "+-------------------+-------------+-----+\n",
      "|           Speeding|            F| 2127|\n",
      "|   Moving violation|            F|  278|\n",
      "|           Speeding|            M| 5220|\n",
      "|              Other|            M|  150|\n",
      "|Registration/plates|            F|   76|\n",
      "|          Equipment|            F|  102|\n",
      "|Registration/plates|            M|  213|\n",
      "|              Other|            F|   41|\n",
      "|   Moving violation|            M| 1085|\n",
      "|          Equipment|            M|  518|\n",
      "+-------------------+-------------+-----+\n",
      "\n"
     ]
    }
   ],
   "source": [
    "voilation_data = data.dropna(subset=[\"violation\", \"driver_gender\"])\n",
    "violation_gender_count = voilation_data.groupBy('violation', 'driver_gender').agg(count('*').alias('count'))\n",
    "violation_gender_count.show()"
   ]
  },
  {
   "cell_type": "code",
   "execution_count": null,
   "id": "cad7b6d5-d492-431c-a577-6568229658bb",
   "metadata": {},
   "outputs": [],
   "source": [
    "# Goal 3:Assess how gender influences the likelihood of being searched during stops"
   ]
  },
  {
   "cell_type": "code",
   "execution_count": 32,
   "id": "f72d22f8-f4e6-402c-83b7-9733b4aba6e5",
   "metadata": {},
   "outputs": [
    {
     "name": "stdout",
     "output_type": "stream",
     "text": [
      "+-------------+----------------+-----+\n",
      "|driver_gender|search_conducted|count|\n",
      "+-------------+----------------+-----+\n",
      "|            M|            true|  371|\n",
      "|            F|           false| 2570|\n",
      "|            F|            true|   54|\n",
      "|            M|           false| 6815|\n",
      "+-------------+----------------+-----+\n",
      "\n"
     ]
    }
   ],
   "source": [
    "search_during_stop = data.groupBy('driver_gender', 'search_conducted').agg(count('search_conducted').alias('count'))\n",
    "search_during_stop.show()"
   ]
  },
  {
   "cell_type": "code",
   "execution_count": null,
   "id": "0733c11f-e08d-4606-bd29-02e928f9a466",
   "metadata": {},
   "outputs": [],
   "source": [
    "# Goal 4:Distribution of Stop Duration and Average Duration of Traffic Stops"
   ]
  },
  {
   "cell_type": "code",
   "execution_count": 33,
   "id": "86ce517b-0e43-42ad-a92e-7192cd535662",
   "metadata": {},
   "outputs": [
    {
     "name": "stdout",
     "output_type": "stream",
     "text": [
      "+-------------+-----+\n",
      "|stop_duration|count|\n",
      "+-------------+-----+\n",
      "|     0-15 Min| 8304|\n",
      "|    16-30 Min| 1156|\n",
      "|      30+ Min|  350|\n",
      "+-------------+-----+\n",
      "\n"
     ]
    }
   ],
   "source": [
    "stop_duration_counts = data.groupBy(\"stop_duration\").count()\n",
    "stop_duration_counts.show()"
   ]
  },
  {
   "cell_type": "code",
   "execution_count": 38,
   "id": "bbf6110e-e2a1-4972-bda5-507850b11553",
   "metadata": {},
   "outputs": [],
   "source": [
    "data_with_mapped_duration = data.withColumn(\n",
    "    \"stop_duration_mapped\",\n",
    "    when(col(\"stop_duration\") == \"0-15 Min\", 7.5)\n",
    "    .when(col(\"stop_duration\") == \"16-30 Min\", 24)\n",
    "    .when(col(\"stop_duration\") == \"30+ Min\", 45)\n",
    "    .otherwise(None)  # Handle any other values, or keep them as null\n",
    ")"
   ]
  },
  {
   "cell_type": "code",
   "execution_count": 39,
   "id": "4323824c-5a4c-437c-a1ad-a6dbad18cafd",
   "metadata": {},
   "outputs": [
    {
     "name": "stdout",
     "output_type": "stream",
     "text": [
      "Mean of stop duration: 10.782262996941895\n"
     ]
    }
   ],
   "source": [
    "mean_of_stopDuration = data_with_mapped_duration.agg(mean(\"stop_duration_mapped\").alias(\"mean_stop_duration\")).collect()[0][\"mean_stop_duration\"]\n",
    "print(f\"Mean of stop duration: {mean_of_stopDuration}\")"
   ]
  },
  {
   "cell_type": "code",
   "execution_count": null,
   "id": "ff4989a1-2ed3-46ec-99cb-779be2657aa6",
   "metadata": {},
   "outputs": [],
   "source": [
    "# Goal 5:Examine age distributions across different traffic violations"
   ]
  },
  {
   "cell_type": "code",
   "execution_count": 41,
   "id": "20465aa6-31d5-42c2-8eac-9bfd52a18979",
   "metadata": {},
   "outputs": [
    {
     "name": "stdout",
     "output_type": "stream",
     "text": [
      "+-------------------+-----+------------------+---+---+------------------+\n",
      "|          violation|count|              mean|min|max|            stddev|\n",
      "+-------------------+-----+------------------+---+---+------------------+\n",
      "|          Equipment|  618| 30.64724919093851| 17| 81|11.227794604250757|\n",
      "|              Other|  185|32.016216216216215| 17| 72|12.007459491135391|\n",
      "|   Moving violation| 1349|  34.7123795404003| 17| 76|12.518662722760283|\n",
      "|Registration/plates|  288|31.270833333333332| 17| 59|10.235021349313634|\n",
      "|           Speeding| 7323| 32.83941007783695| 16| 88| 12.38438555186899|\n",
      "+-------------------+-----+------------------+---+---+------------------+\n",
      "\n"
     ]
    }
   ],
   "source": [
    "meanage_perviolation = data.groupBy('violation').agg(\n",
    "    count('driver_age').alias('count'),\n",
    "    mean('driver_age').alias('mean'),\n",
    "    min('driver_age').alias('min'),\n",
    "    max('driver_age').alias('max'),\n",
    "    stddev('driver_age').alias('stddev')\n",
    ")\n",
    "meanage_perviolation.show()"
   ]
  },
  {
   "cell_type": "code",
   "execution_count": null,
   "id": "49c2c06c-8870-4462-b971-4a3187a73bbe",
   "metadata": {},
   "outputs": [],
   "source": [
    "# Goal 6:Explore Top patterns in repeat violations and their recurrence over time"
   ]
  },
  {
   "cell_type": "code",
   "execution_count": 42,
   "id": "e054b7fc-ac54-486f-a59a-990149d37881",
   "metadata": {},
   "outputs": [],
   "source": [
    "data = data.withColumn(\"violation\", col(\"violation\").cast(\"string\"))\n",
    "data = data.withColumn(\"Driver ID\", col(\"Driver ID\").cast(\"string\"))"
   ]
  },
  {
   "cell_type": "code",
   "execution_count": 44,
   "id": "91800015-2f30-46a1-bc24-a571690721f8",
   "metadata": {},
   "outputs": [
    {
     "name": "stdout",
     "output_type": "stream",
     "text": [
      "+---------+---------+-----+\n",
      "|Driver ID|violation|count|\n",
      "+---------+---------+-----+\n",
      "|DL-742617| Speeding|   30|\n",
      "|DL-135712| Speeding|   29|\n",
      "|DL-186006| Speeding|   28|\n",
      "|DL-763752| Speeding|   27|\n",
      "|DL-657309| Speeding|   27|\n",
      "|DL-597816| Speeding|   27|\n",
      "|DL-614068| Speeding|   27|\n",
      "|DL-306693| Speeding|   27|\n",
      "|DL-722007| Speeding|   26|\n",
      "|DL-218428| Speeding|   26|\n",
      "|DL-853879| Speeding|   26|\n",
      "|DL-893672| Speeding|   26|\n",
      "|DL-233530| Speeding|   26|\n",
      "|DL-540432| Speeding|   25|\n",
      "|DL-783524| Speeding|   25|\n",
      "|DL-864956| Speeding|   25|\n",
      "|DL-898831| Speeding|   25|\n",
      "|DL-646980| Speeding|   25|\n",
      "|DL-904028| Speeding|   25|\n",
      "|DL-137844| Speeding|   25|\n",
      "+---------+---------+-----+\n",
      "\n"
     ]
    }
   ],
   "source": [
    "individual = data.groupBy(\"Driver ID\", \"violation\").agg(count(\"violation\").alias(\"count\"))\n",
    "top_20_individual = individual.orderBy(col(\"count\").desc()).limit(20)\n",
    "top_20_individual.show()"
   ]
  },
  {
   "cell_type": "code",
   "execution_count": null,
   "id": "e177ac1c-621c-4dbb-af70-265d25de61a7",
   "metadata": {},
   "outputs": [],
   "source": []
  }
 ],
 "metadata": {
  "kernelspec": {
   "display_name": "Python 3 (ipykernel)",
   "language": "python",
   "name": "python3"
  },
  "language_info": {
   "codemirror_mode": {
    "name": "ipython",
    "version": 3
   },
   "file_extension": ".py",
   "mimetype": "text/x-python",
   "name": "python",
   "nbconvert_exporter": "python",
   "pygments_lexer": "ipython3",
   "version": "3.12.3"
  }
 },
 "nbformat": 4,
 "nbformat_minor": 5
}
